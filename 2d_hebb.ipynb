{
 "cells": [
  {
   "cell_type": "code",
   "execution_count": 1,
   "id": "7b73acec",
   "metadata": {},
   "outputs": [
    {
     "name": "stderr",
     "output_type": "stream",
     "text": [
      "C:\\ProgramData\\Anaconda3\\lib\\site-packages\\scipy\\__init__.py:146: UserWarning: A NumPy version >=1.16.5 and <1.23.0 is required for this version of SciPy (detected version 1.23.3\n",
      "  warnings.warn(f\"A NumPy version >={np_minversion} and <{np_maxversion}\"\n"
     ]
    }
   ],
   "source": [
    "import numpy as np\n",
    "import scipy.sparse as sp\n",
    "import matplotlib.pyplot as plt\n",
    "from scipy.integrate import solve_ivp\n",
    "import ipywidgets as widgets\n",
    "from scipy.optimize import fsolve"
   ]
  },
  {
   "cell_type": "markdown",
   "id": "5d7416da",
   "metadata": {},
   "source": [
    "## Neural Network Dynamics:\n",
    "\n",
    "$$\n",
    "\\begin{align}\n",
    "\\dot{r}_{1} &= \\gamma[ -r_{1} + tanh(m_{11}r_{1} + m_{12}r_{2} + u_{1})] \\\\\n",
    "\\dot{r}_{2} &= \\gamma[ -r_{2} + tanh(m_{21}r_{1} + m_{22}r_{2} + u_{2})] \\\\\n",
    "\\dot{m}_{11} &= \\eta_{1}r_{1}^{2} - \\eta_2m_{11} \\\\\n",
    "\\dot{m}_{12} &= \\eta_{1}r_{1}r_{2} - \\eta_2m_{12} \\\\\n",
    "\\dot{m}_{21} &= \\eta_{1}r_{1}^{2} - \\eta_2m_{21} \\\\\n",
    "\\dot{m}_{22} &= \\eta_{1}r_{2}^{2} - \\eta_2m_{22} \\\\\n",
    "\\end{align}\n",
    "$$\n"
   ]
  },
  {
   "cell_type": "code",
   "execution_count": 2,
   "id": "54dc12be",
   "metadata": {},
   "outputs": [],
   "source": [
    "def f_s(t, z, gamma, u1, u2, eta1, eta2):\n",
    "    r1, r2, m11, m12, m21, m22= z\n",
    "    z_next = np.zeros(6)\n",
    "    z_next[0] = gamma*(-r1 + np.tanh(m11*r1 + m12*r2 + u1))\n",
    "    z_next[1] = gamma*(-r2 + np.tanh(m21*r1 + m22*r2 + u2))\n",
    "    z_next[2] = eta1*r1*r1 - eta2*m11\n",
    "    z_next[3] = eta1*r1*r2 - eta2*m12\n",
    "    z_next[4] = eta1*r1*r2 - eta2*m21\n",
    "    z_next[5] = eta1*r2*r2 - eta2*m22\n",
    "    return z_next\n",
    "\n",
    "def f(t, z, gamma, m11, m12, m21, m22, u1, u2):\n",
    "    r1, r2 = z\n",
    "    z_next = np.zeros(2)\n",
    "    z_next[0] = gamma*(-r1 + np.tanh(m11*r1 + m12*r2 + u1))\n",
    "    z_next[1] = gamma*(-r2 + np.tanh(m21*r1 + m22*r2 + u2))\n",
    "    return z_next"
   ]
  },
  {
   "cell_type": "markdown",
   "id": "ca583ce6",
   "metadata": {},
   "source": [
    "## Nullclines:\n",
    "$$\n",
    "\\begin{align}\n",
    "\\dot{r}_{1}: r_{2} &= \\frac{1}{m_{12}}\\left(\\frac{1}{2}\\ln\\left(\\frac{1+r_1}{1-r_1}\\right) - m_{11}r_{1} - u_{1} \\right) \\\\\n",
    "\\dot{r}_{2}: r_{1} &= \\frac{1}{m_{21}}\\left(\\frac{1}{2}\\ln\\left(\\frac{1+r_2}{1-r_2}\\right) - m_{22}r_{2} - u_{2} \\right) \\\\\n",
    "\\dot{m}_{11}: m_{11} &= \\frac{\\eta_{1}}{\\eta_{2}}r_{1}^{2} \\\\\n",
    "\\dot{m}_{12}: m_{12} &= \\frac{\\eta_{1}}{\\eta_{2}}r_{1}r_{2} \\\\\n",
    "\\dot{m}_{21}: m_{21} &= \\frac{\\eta_{1}}{\\eta_{2}}r_{1}r_{2} \\\\\n",
    "\\dot{m}_{22}: m_{22} &= \\frac{\\eta_{1}}{\\eta_{2}}r_{2}^{2} \\\\\n",
    "\\end{align}\n",
    "$$"
   ]
  },
  {
   "cell_type": "markdown",
   "id": "0bde8c47",
   "metadata": {},
   "source": [
    "## Plotting Evolution of Trajectories in $r_{1}, r_{2}$ Space:"
   ]
  },
  {
   "cell_type": "code",
   "execution_count": 3,
   "id": "e5a18646",
   "metadata": {},
   "outputs": [],
   "source": [
    "# For plotting r1, r2 nullclines for each set of weights\n",
    "def r1_null(r1, m11, m12, u1):\n",
    "    return 1/m12*(1/2*np.log((1+r1)/(1-r1)) - m11*r1 -u1)\n",
    "\n",
    "def r2_null(r2, m21, m22, u2):\n",
    "    return 1/m21*(1/2*np.log((1+r2)/(1-r2)) - m22*r2 -u2)"
   ]
  },
  {
   "cell_type": "code",
   "execution_count": 4,
   "id": "5c118ee3",
   "metadata": {},
   "outputs": [],
   "source": [
    "# Plotting Phase portraits\n",
    "def color_map(x):\n",
    "    colors = np.log10(x)\n",
    "    return np.nan_to_num(colors, neginf=0) \n",
    "    \n",
    "def phase_portrait(ax, f, t, xlim, ylim, num_pts, args, norm_arrows=True, stream=True, quiver=True):\n",
    "    \n",
    "    x = np.linspace(-xlim, xlim, num_pts)\n",
    "    y = np.linspace(-ylim, ylim, num_pts)\n",
    "    X, Y = np.meshgrid(x, y)\n",
    "    u = np.zeros((num_pts, num_pts))\n",
    "    v = np.zeros((num_pts, num_pts))\n",
    "    flow_mag = np.zeros((num_pts, num_pts))\n",
    "\n",
    "    \n",
    "    for i in range(num_pts):\n",
    "        for j in range(num_pts):\n",
    "            u[i,j], v[i,j] = f(0, [X[i,j], Y[i,j]], *args)\n",
    "            flow_mag[i,j] = np.sqrt(u[i,j]**2 + v[i,j]**2)\n",
    "            if (u[i,j], v[i,j]) != (0,0):\n",
    "                u[i,j] *= 1/flow_mag[i,j]\n",
    "                v[i,j] *= 1/flow_mag[i,j]\n",
    "    \n",
    "    if quiver:\n",
    "        ax.quiver(X[::1, ::1], Y[::1, ::1], u[::1, ::1], v[::1, ::1], color_map(flow_mag[::1, ::1]), cmap=\"winter\", alpha=0.1)\n",
    "        \n",
    "    ax.streamplot(X, Y, u, v,  color=color_map(flow_mag), cmap=\"winter\", density=1)\n",
    "    ax.grid(True, which='both') "
   ]
  },
  {
   "cell_type": "code",
   "execution_count": 5,
   "id": "4803c97d",
   "metadata": {},
   "outputs": [],
   "source": [
    "# Functions used to find fixed points with fsolve\n",
    "def nullclines_s(r, gamma, m11, m12, m21, m22, u1, u2):\n",
    "    r1, r2 = r\n",
    "    return (r1_null(r1, m11, m12, u1) - r1, r2_null(r2, m21, m22, u2) - r2)\n",
    "\n",
    "def nullclines_o(r, gamma, m11, m12, m21, m22, u1, u2):\n",
    "    r1, r2 = r\n",
    "    r_next = np.zeros(2)\n",
    "    r_next[0] = -r1 + np.tanh(m11*r1 + m12*r2 + u1)\n",
    "    r_next[1] = -r2 + np.tanh(m21*r1 + m22*r2 + u2)\n",
    "    return r_next\n",
    "    "
   ]
  },
  {
   "cell_type": "code",
   "execution_count": 6,
   "id": "00972c78",
   "metadata": {},
   "outputs": [],
   "source": [
    "# Find roots of a function from R^2 to R^2\n",
    "def find_roots(f, d, xrange, yrange, n, args, tol=1e-8):\n",
    "    x1, x2 = xrange\n",
    "    y1, y2 = yrange\n",
    "    x = np.linspace(x1, x2, n)\n",
    "    y = np.linspace(y1, y2, n)\n",
    "    xv, yv = np.meshgrid(x, y)\n",
    "    \n",
    "    roots = []\n",
    "    \n",
    "    for i in range(n):\n",
    "        for j in range(n):\n",
    "            root = fsolve(f, [xv[i][j], yv[i][j]], args, maxfev=9000)\n",
    "            if np.linalg.norm(f(root, *args)) < tol:\n",
    "                roots.append(root)\n",
    "    return roots"
   ]
  },
  {
   "cell_type": "code",
   "execution_count": 7,
   "id": "2c053201",
   "metadata": {},
   "outputs": [],
   "source": [
    "# equations for r1, r2 nullclines with mij nullcline equations subbed in\n",
    "\n",
    "def r1_null_m(r1, eta1, eta2, u1):\n",
    "    root = np.sqrt(eta2/(eta1*r1) * (1/2*np.log((1+r1)/(1-r1)) - u1) - r1**2)\n",
    "    return np.asarray([root, -root])\n",
    "\n",
    "def r2_null_m(r2, eta1, eta2, u2):\n",
    "    root = np.sqrt(eta2/(eta1*r2) * (1/2*np.log((1+r2)/(1-r2)) - u2) - r2**2)\n",
    "    return np.asarray([root, -root])"
   ]
  },
  {
   "cell_type": "code",
   "execution_count": 9,
   "id": "80799afb",
   "metadata": {},
   "outputs": [
    {
     "data": {
      "application/vnd.jupyter.widget-view+json": {
       "model_id": "7c47632204d1411db855b2bf07ce0035",
       "version_major": 2,
       "version_minor": 0
      },
      "text/plain": [
       "interactive(children=(FloatSlider(value=0.01, description='eta1', max=5.0, step=0.001), FloatSlider(value=0.01…"
      ]
     },
     "metadata": {},
     "output_type": "display_data"
    }
   ],
   "source": [
    "@widgets.interact(eta1=(0, 5, 0.001), eta2=(-0, 5, 0.001), u1=(-5, 5, 0.1), u2=(-5, 5, 0.1))\n",
    "def update(eta1=0.01, eta2=0.01, u1=0.1, u2=0.1):\n",
    "    r_range = np.linspace(-0.99, 0.99, 100000)\n",
    "\n",
    "    fig, ax = plt.subplots(1, 1, figsize=(15,15))\n",
    "    \n",
    "    r1 = r1_null_m(r_range, eta1, eta2, u1)\n",
    "    r2 = r2_null_m(r_range, eta1, eta2, u2)\n",
    "    ax.plot(r_range, r1[0,:], 'b', linewidth=1, label='$\\dot{r}_{1}=0$')\n",
    "    ax.plot(r_range, r1[1,:], 'b', linewidth=1, label='$\\dot{r}_{1}=0$')\n",
    "    \n",
    "    ax.plot(r2[0,:], r_range, 'g', linewidth=1, label='$\\dot{r}_{2}=0$')\n",
    "    ax.plot(r2[1,:], r_range, 'g', linewidth=1, label='$\\dot{r}_{2}=0$')\n",
    "    ax.set_xlim(-2, 2)\n",
    "    ax.set_ylim(-2, 2)"
   ]
  },
  {
   "cell_type": "code",
   "execution_count": 8,
   "id": "6a0e29d6",
   "metadata": {
    "scrolled": false
   },
   "outputs": [
    {
     "data": {
      "application/vnd.jupyter.widget-view+json": {
       "model_id": "08b3902b20b744449cd35d8d12e9095e",
       "version_major": 2,
       "version_minor": 0
      },
      "text/plain": [
       "interactive(children=(FloatSlider(value=0.1, description='gamma', max=5.0), FloatSlider(value=0.1, description…"
      ]
     },
     "metadata": {},
     "output_type": "display_data"
    }
   ],
   "source": [
    "@widgets.interact(gamma=(0, 5, 0.1), m110=(-5, 5, 0.1), m120=(-5, 5, 0.1), m210=(-5, 5, 0.1), m220=(-5, 5, 0.1), \n",
    "                  u1=(-5, 5, 0.1), u2=(-5, 5, 0.1), r10=(-1, 1, 0.1), r20=(-1, 1, 0.1), t_start=(0, 10000, 10), \n",
    "                  t_end=(0, 19999, 10))\n",
    "def update(gamma=0.1, m110=0.1, m120=0.1, m210=0.1, m220=0.1, u1=0.1, u2=0.1, r10=0, r20=0, t_start=0, t_end=19999):\n",
    "    t_span = [0, 500]\n",
    "    z0 = [r10, r20, m110, m120, m210, m220]\n",
    "    params = (gamma, u1, u2, 0.0013, 0.001)\n",
    "    sln = solve_ivp(f_s, t_span, z0, args=params, dense_output=True)\n",
    "    t = np.linspace(0, 800, 20000)\n",
    "    z = sln.sol(t)\n",
    "    r1 = z[0]\n",
    "    r2 = z[1]\n",
    "    m11 = z[2]\n",
    "    m12 = z[3]\n",
    "    m21 = z[4]\n",
    "    m22 = z[5]\n",
    "    \n",
    "    fig, ax = plt.subplots(1, 1, figsize=(15,15))\n",
    "    params = (gamma, m11[t_end], m12[t_end], m21[t_end], m22[t_end], u1, u2)\n",
    "    fixed_points = find_roots(nullclines_o, 2, [-1, 1], [-1, 1], 20, params)\n",
    "    r_range = np.linspace(-0.99, 0.99, 10000)\n",
    "    phase_portrait(ax, f, t, 2, 2, 15, params, quiver=False)\n",
    "    ax.plot(r_range, r1_null(r_range, m11[t_end], m12[t_end], u1), 'y', linewidth=2, label='$\\dot{r}_{1}=0$, m fixed')\n",
    "    ax.plot(r2_null(r_range, m21[t_end], m22[t_end], u2), r_range, 'r', linewidth=2, label='$\\dot{r}_{2}=0$, m fixed')\n",
    "    ax.plot(z[0][t_start:t_end], z[1][t_start:t_end], 'k', linewidth=2)\n",
    "    for x in fixed_points:\n",
    "        ax.plot(x[0], x[1], 'ko')\n",
    "    \n",
    "    r1 = r1_null_m(r_range, eta1=0.0013, eta2=0.001, u1=u1)\n",
    "    r2 = r2_null_m(r_range, eta1=0.0013, eta2=0.001, u2=u2)\n",
    "    ax.plot(r_range, r1[0,:], color='orange', linewidth=2, label='$\\dot{r}_{1}=0$')\n",
    "    ax.plot(r_range, r1[1,:], color='orange', linewidth=2, label='$\\dot{r}_{1}=0$')\n",
    "    ax.plot(r2[0,:], r_range, 'm-', linewidth=2, label='$\\dot{r}_{2}=0$')\n",
    "    ax.plot(r2[1,:], r_range, 'm-', linewidth=2, label='$\\dot{r}_{2}=0$')\n",
    "    ax.set_xlim(-2, 2)\n",
    "    ax.set_ylim(-2, 2)\n",
    "    ax.legend(loc='upper left')\n",
    "    \n",
    "    fig, ax = plt.subplots(1, 6, figsize=(15,5))\n",
    "    ax[0].plot(t[t_start:t_end], m11[t_start:t_end],label=\"m11\")\n",
    "    ax[1].plot(t[t_start:t_end], m12[t_start:t_end], label=\"m12\")\n",
    "    ax[2].plot(t[t_start:t_end], m21[t_start:t_end], label=\"m21\")\n",
    "    ax[3].plot(t[t_start:t_end], m22[t_start:t_end], label=\"m22\")\n",
    "    #ax[4].plot(t[t_start:t_end], r1[t_start:t_end], label=\"r1\")\n",
    "    #ax[5].plot(t[t_start:t_end], r2[t_start:t_end], label=\"r1\")\n",
    "    \n",
    "    ax[0].set_xlim(0, 50)\n",
    "    ax[1].set_xlim(0, 50)\n",
    "    ax[2].set_xlim(0, 50)\n",
    "    ax[3].set_xlim(0, 50)\n",
    "    ax[4].set_xlim(0, 50)\n",
    "    ax[4].set_xlim(0, 50)\n",
    "    \n",
    "    ax[0].set_ylim(-5, 5)\n",
    "    ax[1].set_ylim(-5, 5)\n",
    "    ax[2].set_ylim(-5, 5)\n",
    "    ax[3].set_ylim(-5, 5)\n",
    "    ax[4].set_ylim(-1, 1)\n",
    "    ax[5].set_ylim(-1, 1)\n",
    "    \n",
    "    ax[0].legend(loc='upper left')\n",
    "    ax[1].legend(loc='upper left')\n",
    "    ax[2].legend(loc='upper left')\n",
    "    ax[3].legend(loc='upper left')\n",
    "    ax[4].legend(loc='upper left')\n",
    "    ax[5].legend(loc='upper left')"
   ]
  },
  {
   "cell_type": "markdown",
   "id": "df630835",
   "metadata": {},
   "source": [
    "## Jacobian Matrix at fixed points:"
   ]
  },
  {
   "cell_type": "code",
   "execution_count": 10,
   "id": "1cc113db",
   "metadata": {},
   "outputs": [],
   "source": [
    "def Jac(r1, r2, eps, eta):\n",
    "    row1 = [eps*(-1+eta*r1**2*(1-r1**2)), eps*eta*r1*r2*(1-r1**2), eps*r1*(1-r1**2), eps*r2*(1-r1**2), 0, 0]\n",
    "    row2 = [eps*eta*r1*r2*(1-r2**2), eps*(-1+eta*r1**2*(1-r1**2)), 0, 0, eps*r1*(1-r2**2), eps*r2*(1-r2**2)]\n",
    "    row3 = [2*eta*r1, 0, -1, 0, 0, 0]\n",
    "    row4 = [eta*r2, eta*r1, 0, -1, 0, 0]\n",
    "    row5 = [eta*r2, eta*r1, 0, 0, -1, 0]\n",
    "    row6 = [0, 2*eta*r2, 0, 0, 0, -1]\n",
    "    \n",
    "    return np.asarray([row1, row2, row3, row3, row4, row5, row6])"
   ]
  },
  {
   "cell_type": "code",
   "execution_count": null,
   "id": "a99fac60",
   "metadata": {},
   "outputs": [],
   "source": []
  }
 ],
 "metadata": {
  "kernelspec": {
   "display_name": "Python 3 (ipykernel)",
   "language": "python",
   "name": "python3"
  },
  "language_info": {
   "codemirror_mode": {
    "name": "ipython",
    "version": 3
   },
   "file_extension": ".py",
   "mimetype": "text/x-python",
   "name": "python",
   "nbconvert_exporter": "python",
   "pygments_lexer": "ipython3",
   "version": "3.9.12"
  }
 },
 "nbformat": 4,
 "nbformat_minor": 5
}
