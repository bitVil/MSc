{
 "cells": [
  {
   "cell_type": "code",
   "execution_count": 9,
   "id": "b07ab77c",
   "metadata": {},
   "outputs": [],
   "source": [
    "import numpy as np\n",
    "import scipy.sparse as sp\n",
    "import matplotlib.pyplot as plt\n",
    "from scipy.integrate import solve_ivp\n",
    "import ipywidgets as widgets"
   ]
  },
  {
   "cell_type": "markdown",
   "id": "b682c384",
   "metadata": {},
   "source": [
    "## Neural Network Dynamics:\n",
    "\n",
    "$$\\dot{r}_{1} = \\gamma[ -r_{1} + tanh(m_{11}r_{1} + m_{12}r_{2} + u_{1})]$$\n",
    "$$\\dot{r}_{2} = \\gamma[ -r_{2} + tanh(m_{21}r_{1} + m_{22}r_{2} + u_{2})]$$"
   ]
  },
  {
   "cell_type": "code",
   "execution_count": 10,
   "id": "a5b6022c",
   "metadata": {},
   "outputs": [],
   "source": [
    "def f(t, z, gamma, m11, m12, m21, m22, u1, u2):\n",
    "    r1, r2 = z\n",
    "    z_next = np.zeros(2)\n",
    "    z_next[0] = gamma*(-r1 + np.tanh(m11*r1 + m12*r2 + u1))\n",
    "    z_next[1] = gamma*(-r2 + np.tanh(m21*r1 + m22*r2 + u2))\n",
    "    return z_next"
   ]
  },
  {
   "cell_type": "markdown",
   "id": "df3905a1",
   "metadata": {},
   "source": [
    "## Nullclines:\n",
    "\n",
    "$$\\dot{r_1}: r_{2} = \\frac{1}{m_{12}}\\left(\\frac{1}{2}\\ln\\left(\\frac{1+r_1}{1-r_1}\\right) - m_{11}r_{1} - u_{1} \\right)$$\n",
    "$$\\dot{r_2}: r_{1} = \\frac{1}{m_{21}}\\left(\\frac{1}{2}\\ln\\left(\\frac{1+r_2}{1-r_2}\\right) - m_{22}r_{2} - u_{2} \\right)$$"
   ]
  },
  {
   "cell_type": "code",
   "execution_count": 11,
   "id": "ec146fcc",
   "metadata": {},
   "outputs": [],
   "source": [
    "def r1_null(r1, m11, m12, u1):\n",
    "    return 1/m12*(1/2*np.log((1+r1)/(1-r1)) - m11*r1 -u1)\n",
    "\n",
    "def r2_null(r2, m21, m22, u2):\n",
    "    return 1/m21*(1/2*np.log((1+r2)/(1-r2)) - m22*r2 -u2)"
   ]
  },
  {
   "cell_type": "code",
   "execution_count": 12,
   "id": "5f23cfe2",
   "metadata": {},
   "outputs": [
    {
     "data": {
      "application/vnd.jupyter.widget-view+json": {
       "model_id": "0cccbf7bf4ff44dcb5e7c7a06417afdf",
       "version_major": 2,
       "version_minor": 0
      },
      "text/plain": [
       "interactive(children=(FloatSlider(value=0.1, description='gamma', max=5.0), FloatSlider(value=0.1, description…"
      ]
     },
     "metadata": {},
     "output_type": "display_data"
    }
   ],
   "source": [
    "@widgets.interact(gamma=(0, 5, 0.1), m11=(0, 5, 0.1), m12=(0, 5, 0.1), m21=(0, 5, 0.1), m22=(0, 5, 0.1), \n",
    "                 u1=(0, 5, 0.1), u2=(0, 5, 0.1), r10=(-1, 1, 0.1), r20=(-1, 1, 0.1))\n",
    "def update(gamma=0.1, m11=0.1, m12=0.1, m21=0.1, m22=0.1, u1=0.1, u2=0.1, r10=0, r20=0):\n",
    "    t_span = [0, 100]\n",
    "    z0 = [r10, r20]\n",
    "    params = (gamma, m11, m12, m21, m22, u1, u2)\n",
    "    sln = solve_ivp(f, t_span, z0, args=params, dense_output=True)\n",
    "    t = np.linspace(0, 100, 10000)\n",
    "    z = sln.sol(t)\n",
    "    \n",
    "    \n",
    "    fig, ax = plt.subplots(1, 1, figsize=(11,7))\n",
    "    r_range = np.linspace(-1, 1, 1000)\n",
    "    ax.plot(r_range, r1_null(r_range, m11, m12, u1))\n",
    "    ax.plot(r2_null(r_range, m21, m22, u2), r_range)\n",
    "    ax.plot(z[0], z[1])\n",
    "    ax.set_xlim(-2, 2)\n",
    "    ax.set_ylim(-2, 2)"
   ]
  },
  {
   "cell_type": "markdown",
   "id": "b50cd6a4",
   "metadata": {},
   "source": [
    "## Plot Vector Field and Nullclines:"
   ]
  },
  {
   "cell_type": "code",
   "execution_count": 13,
   "id": "e3994679",
   "metadata": {},
   "outputs": [],
   "source": [
    "def color_map(x):\n",
    "    colors = np.log10(x)\n",
    "    return np.nan_to_num(colors, neginf=0) \n",
    "    \n",
    "def phase_portrait(ax, f, t, xlim, ylim, num_pts, args, norm_arrows=True, stream=True, quiver=True):\n",
    "    \n",
    "    x = np.linspace(-xlim, xlim, num_pts)\n",
    "    y = np.linspace(-ylim, ylim, num_pts)\n",
    "    X, Y = np.meshgrid(x, y)\n",
    "    u = np.zeros((num_pts, num_pts))\n",
    "    v = np.zeros((num_pts, num_pts))\n",
    "    flow_mag = np.zeros((num_pts, num_pts))\n",
    "\n",
    "    for i in range(num_pts):\n",
    "        for j in range(num_pts):\n",
    "            u[i,j], v[i,j] = f(0, [X[i,j], Y[i,j]], *args)\n",
    "            flow_mag[i,j] = np.sqrt(u[i,j]**2 + v[i,j]**2)\n",
    "            if (u[i,j], v[i,j]) != (0,0):\n",
    "                u[i,j] *= 1/flow_mag[i,j]\n",
    "                v[i,j] *= 1/flow_mag[i,j]\n",
    "    \n",
    "    ax.quiver(X[::1, ::1], Y[::1, ::1], u[::1, ::1], v[::1, ::1], color_map(flow_mag[::1, ::1]), cmap=\"winter\", alpha=0.1)\n",
    "        \n",
    "    ax.streamplot(X, Y, u, v,  color=color_map(flow_mag), cmap=\"winter\", density=1)\n",
    "    ax.grid(True, which='both')  "
   ]
  },
  {
   "cell_type": "code",
   "execution_count": 75,
   "id": "42321336",
   "metadata": {},
   "outputs": [
    {
     "data": {
      "application/vnd.jupyter.widget-view+json": {
       "model_id": "376295bd34d6492998a82b2d45296375",
       "version_major": 2,
       "version_minor": 0
      },
      "text/plain": [
       "interactive(children=(FloatSlider(value=0.1, description='gamma', max=5.0), FloatSlider(value=0.1, description…"
      ]
     },
     "metadata": {},
     "output_type": "display_data"
    }
   ],
   "source": [
    "@widgets.interact(gamma=(0, 5, 0.1), m11=(-5, 5, 0.1), m12=(-5, 5, 0.1), m21=(-5, 5, 0.1), m22=(-5, 5, 0.1), \n",
    "                u1=(-5, 5, 0.1), u2=(-5, 5, 0.1), r10=(-1, 1, 0.1), r20=(-1, 1, 0.1))\n",
    "def update(gamma=0.1, m11=0.1, m12=0.1, m21=0.1, m22=0.1, u1=0.1, u2=0.1, r10=0, r20=0):\n",
    "    t_span = [0, 500]\n",
    "    z0 = [r10, r20]\n",
    "    params = (gamma, m11, m12, m21, m22, u1, u2)\n",
    "    sln = solve_ivp(f, t_span, z0, args=params, dense_output=True)\n",
    "    t = np.linspace(0, 500, 10000)\n",
    "    z = sln.sol(t)\n",
    "    \n",
    "    \n",
    "    fig, ax = plt.subplots(1, 1, figsize=(11,7))\n",
    "    r_range = np.linspace(-1, 1, 10000)\n",
    "    phase_portrait(ax, f, t, 2, 2, 15, params)\n",
    "    ax.plot(r_range, r1_null(r_range, m11, m12, u1), 'y', linewidth=2, label='$\\dot{r}_{1}=0$')\n",
    "    ax.plot(r2_null(r_range, m21, m22, u2), r_range, 'r', linewidth=2, label='$\\dot{r}_{2}=0$')\n",
    "    ax.plot(z[0], z[1], 'k', linewidth=2)\n",
    "    ax.set_xlim(-2, 2)\n",
    "    ax.set_ylim(-2, 2)\n",
    "    ax.legend()"
   ]
  },
  {
   "cell_type": "markdown",
   "id": "aaa5331c",
   "metadata": {},
   "source": [
    "## Find Fixed Points:"
   ]
  },
  {
   "cell_type": "code",
   "execution_count": 8,
   "id": "8d419f2d",
   "metadata": {},
   "outputs": [],
   "source": [
    "from scipy.optimize import fsolve"
   ]
  },
  {
   "cell_type": "code",
   "execution_count": 61,
   "id": "50bc5339",
   "metadata": {},
   "outputs": [],
   "source": [
    "def nullclines_s(r, gamma, m11, m12, m21, m22, u1, u2):\n",
    "    r1, r2 = r\n",
    "    return (r1_null(r1, m11, m12, u1) - r1, r2_null(r2, m21, m22, u2) - r2)\n",
    "\n",
    "def nullclines_o(r, gamma, m11, m12, m21, m22, u1, u2):\n",
    "    r1, r2 = r\n",
    "    r_next = np.zeros(2)\n",
    "    r_next[0] = -r1 + np.tanh(m11*r1 + m12*r2 + u1)\n",
    "    r_next[1] = -r2 + np.tanh(m21*r1 + m22*r2 + u2)\n",
    "    return r_next\n",
    "    "
   ]
  },
  {
   "cell_type": "code",
   "execution_count": 20,
   "id": "59dc5cbb",
   "metadata": {},
   "outputs": [
    {
     "name": "stdout",
     "output_type": "stream",
     "text": [
      "0.0 0.0\n",
      "0.5 0.0\n",
      "1.0 0.0\n",
      "0.0 0.5\n",
      "0.5 0.5\n",
      "1.0 0.5\n",
      "0.0 1.0\n",
      "0.5 1.0\n",
      "1.0 1.0\n"
     ]
    },
    {
     "data": {
      "text/plain": [
       "[(array([0. , 0.5, 1. ]), array([0., 0., 0.])),\n",
       " (array([0. , 0.5, 1. ]), array([0.5, 0.5, 0.5])),\n",
       " (array([0. , 0.5, 1. ]), array([1., 1., 1.])),\n",
       " (array([0. , 0.5, 1. ]), array([0., 0., 0.])),\n",
       " (array([0. , 0.5, 1. ]), array([0.5, 0.5, 0.5])),\n",
       " (array([0. , 0.5, 1. ]), array([1., 1., 1.])),\n",
       " (array([0. , 0.5, 1. ]), array([0., 0., 0.])),\n",
       " (array([0. , 0.5, 1. ]), array([0.5, 0.5, 0.5])),\n",
       " (array([0. , 0.5, 1. ]), array([1., 1., 1.]))]"
      ]
     },
     "execution_count": 20,
     "metadata": {},
     "output_type": "execute_result"
    }
   ],
   "source": [
    "nx, ny = (10, 10)\n",
    "x = np.linspace(-1, 1, nx)\n",
    "y = np.linspace(-1, 1, ny)\n",
    "xv, yv = np.meshgrid(x, y)\n",
    "xv, yv\n",
    "\n",
    "for i in range(3):\n",
    "    for j in range(3):\n",
    "        print(xv[i][j], yv[i][j])\n",
    "        \n",
    "import itertools  \n",
    "list(itertools.product(xv, yv))"
   ]
  },
  {
   "cell_type": "code",
   "execution_count": 37,
   "id": "2db19067",
   "metadata": {},
   "outputs": [
    {
     "data": {
      "text/plain": [
       "array([0.11060624, 0.11060624])"
      ]
     },
     "execution_count": 37,
     "metadata": {},
     "output_type": "execute_result"
    }
   ],
   "source": [
    "gamma = 0.1 \n",
    "m11=0.1\n",
    "m12=0.1\n",
    "m21=0.1\n",
    "m22=0.1\n",
    "u1=0.1\n",
    "u2=0.1\n",
    "\n",
    "args = (gamma, m11, m12, m21, m22, u1, u2)\n",
    "fsolve(nullclines, [0, 0], args)\n",
    "\n",
    "\n",
    "    "
   ]
  },
  {
   "cell_type": "code",
   "execution_count": 65,
   "id": "03b54ed1",
   "metadata": {},
   "outputs": [
    {
     "name": "stdout",
     "output_type": "stream",
     "text": [
      "-1.0 -1.0\n",
      "-0.7777777777777778 -1.0\n",
      "-0.5555555555555556 -1.0\n",
      "-1.0 -0.7777777777777778\n",
      "-0.7777777777777778 -0.7777777777777778\n",
      "-0.5555555555555556 -0.7777777777777778\n",
      "-1.0 -0.5555555555555556\n",
      "-0.7777777777777778 -0.5555555555555556\n",
      "-0.5555555555555556 -0.5555555555555556\n"
     ]
    }
   ],
   "source": [
    "nx, ny = (10, 10)\n",
    "x = np.linspace(-1, 1, nx)\n",
    "y = np.linspace(-1, 1, ny)\n",
    "xv, yv = np.meshgrid(x, y)\n",
    "xv, yv\n",
    "\n",
    "for i in range(3):\n",
    "    for j in range(3):\n",
    "        print(xv[i][j], yv[i][j])\n",
    "\n",
    "def find_roots(f, n, xrange, yrange, args):\n",
    "    nx, ny = (10, 10)\n",
    "    x = np.linspace(-1, 1, nx)\n",
    "    y = np.linspace(-1, 1, ny)\n",
    "    xv, yv = np.meshgrid(x, y)\n",
    "    xv, yv\n",
    "    roots = np.zeros((len(guesses), n))\n",
    "    for i in range(len(guesses)):\n",
    "        roots[i] = fsolve(f, guesses[i], args, maxfev=5000)\n",
    "    return roots\n",
    "    "
   ]
  },
  {
   "cell_type": "code",
   "execution_count": 72,
   "id": "e3480b58",
   "metadata": {},
   "outputs": [
    {
     "name": "stdout",
     "output_type": "stream",
     "text": [
      "-1.0 -1.0\n",
      "-0.7777777777777778 -1.0\n",
      "-0.5555555555555556 -1.0\n",
      "-1.0 -0.7777777777777778\n",
      "-0.7777777777777778 -0.7777777777777778\n",
      "-0.5555555555555556 -0.7777777777777778\n",
      "-1.0 -0.5555555555555556\n",
      "-0.7777777777777778 -0.5555555555555556\n",
      "-0.5555555555555556 -0.5555555555555556\n"
     ]
    }
   ],
   "source": [
    "nx, ny = (10, 10)\n",
    "x = np.linspace(-1, 1, nx)\n",
    "y = np.linspace(-1, 1, ny)\n",
    "xv, yv = np.meshgrid(x, y)\n",
    "xv, yv\n",
    "\n",
    "for i in range(3):\n",
    "    for j in range(3):\n",
    "        print(xv[i][j], yv[i][j])\n",
    "\n",
    "def find_roots(f, d, xrange, yrange, n, args):\n",
    "    x1, x2 = xrange\n",
    "    y1, y2 = yrange\n",
    "    x = np.linspace(x1, x2, n)\n",
    "    y = np.linspace(y1, y2, n)\n",
    "    xv, yv = np.meshgrid(x, y)\n",
    "    \n",
    "    roots = np.zeros((n*n, d))\n",
    "    \n",
    "    for i in range(n):\n",
    "        for j in range(n):\n",
    "            roots[i+j] = fsolve(f, [xv[i][j], yv[i][j]], args, maxfev=5000)\n",
    "    return roots"
   ]
  },
  {
   "cell_type": "code",
   "execution_count": 47,
   "id": "83c45f08",
   "metadata": {},
   "outputs": [
    {
     "name": "stderr",
     "output_type": "stream",
     "text": [
      "C:\\Users\\foxda\\AppData\\Local\\Temp\\ipykernel_13608\\2520118267.py:2: RuntimeWarning: invalid value encountered in log\n",
      "  return 1/m12*(1/2*np.log((1+r1)/(1-r1)) - m11*r1 -u1)\n",
      "C:\\ProgramData\\Anaconda3\\lib\\site-packages\\scipy\\optimize\\minpack.py:175: RuntimeWarning: The iteration is not making good progress, as measured by the \n",
      "  improvement from the last ten iterations.\n",
      "  warnings.warn(msg, RuntimeWarning)\n"
     ]
    },
    {
     "data": {
      "text/plain": [
       "array([[-0.26647662, -0.12583826],\n",
       "       [ 0.5       ,  0.5       ]])"
      ]
     },
     "execution_count": 47,
     "metadata": {},
     "output_type": "execute_result"
    }
   ],
   "source": [
    "gamma = 0.1 \n",
    "m11=0.1\n",
    "m12=1.3\n",
    "m21=1.7\n",
    "m22=0.1\n",
    "u1=0.1\n",
    "u2=0.1\n",
    "\n",
    "args = (gamma, m11, m12, m21, m22, u1, u2)\n",
    "find_roots(nullclines, 2, [[0, 0], [1/2, 1/2]], args)"
   ]
  },
  {
   "cell_type": "code",
   "execution_count": 77,
   "id": "8518492e",
   "metadata": {},
   "outputs": [
    {
     "data": {
      "application/vnd.jupyter.widget-view+json": {
       "model_id": "b577b5a534694e3396d9dc5a9b4c1362",
       "version_major": 2,
       "version_minor": 0
      },
      "text/plain": [
       "interactive(children=(FloatSlider(value=0.1, description='gamma', max=5.0), FloatSlider(value=0.1, description…"
      ]
     },
     "metadata": {},
     "output_type": "display_data"
    }
   ],
   "source": [
    "@widgets.interact(gamma=(0, 5, 0.1), m11=(0, 5, 0.1), m12=(0, 5, 0.1), m21=(0, 5, 0.1), m22=(0, 5, 0.1), \n",
    "                 u1=(0, 5, 0.1), u2=(0, 5, 0.1), r10=(-1, 1, 0.1), r20=(-1, 1, 0.1))\n",
    "def update(gamma=0.1, m11=0.1, m12=0.1, m21=0.1, m22=0.1, u1=0.1, u2=0.1, r10=0, r20=0):\n",
    "    t_span = [0, 100]\n",
    "    z0 = [r10, r20]\n",
    "    params = (gamma, m11, m12, m21, m22, u1, u2)\n",
    "    sln = solve_ivp(f, t_span, z0, args=params, dense_output=True)\n",
    "    t = np.linspace(0, 100, 10000)\n",
    "    z = sln.sol(t)\n",
    "    fixed_points = find_roots(nullclines_o, 2, [-1, 1], [-1, 1], 100, params)\n",
    "    \n",
    "    \n",
    "    fig, ax = plt.subplots(1, 1, figsize=(11,7))\n",
    "    r_range = np.linspace(-1, 1, 1000)\n",
    "    ax.plot(r_range, r1_null(r_range, m11, m12, u1))\n",
    "    ax.plot(r2_null(r_range, m21, m22, u2), r_range)\n",
    "    ax.plot(z[0], z[1])\n",
    "    for x in fixed_points:\n",
    "        ax.plot(x[0], x[1], 'ko')\n",
    "    ax.set_xlim(-2, 2)\n",
    "    ax.set_ylim(-2, 2)"
   ]
  },
  {
   "cell_type": "code",
   "execution_count": null,
   "id": "e0dcc831",
   "metadata": {},
   "outputs": [],
   "source": []
  }
 ],
 "metadata": {
  "kernelspec": {
   "display_name": "Python 3 (ipykernel)",
   "language": "python",
   "name": "python3"
  },
  "language_info": {
   "codemirror_mode": {
    "name": "ipython",
    "version": 3
   },
   "file_extension": ".py",
   "mimetype": "text/x-python",
   "name": "python",
   "nbconvert_exporter": "python",
   "pygments_lexer": "ipython3",
   "version": "3.9.12"
  }
 },
 "nbformat": 4,
 "nbformat_minor": 5
}
