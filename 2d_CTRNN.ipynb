{
 "cells": [
  {
   "cell_type": "code",
   "execution_count": 5,
   "id": "b07ab77c",
   "metadata": {},
   "outputs": [],
   "source": [
    "import numpy as np\n",
    "import scipy.sparse as sp\n",
    "import matplotlib.pyplot as plt\n",
    "from scipy.integrate import solve_ivp\n",
    "import ipywidgets as widgets"
   ]
  },
  {
   "cell_type": "markdown",
   "id": "b682c384",
   "metadata": {},
   "source": [
    "## Neural Network Dynamics:\n",
    "\n",
    "$$\\dot{r}_{1} = \\gamma[ -r_{1} + tanh(m_{11}r_{1} + m_{12}r_{2} + u_{1})]$$\n",
    "$$\\dot{r}_{2} = \\gamma[ -r_{2} + tanh(m_{21}r_{1} + m_{22}r_{2} + u_{2})]$$"
   ]
  },
  {
   "cell_type": "code",
   "execution_count": 6,
   "id": "a5b6022c",
   "metadata": {},
   "outputs": [],
   "source": [
    "def f(t, z, gamma, m11, m12, m21, m22, u1, u2):\n",
    "    r1, r2 = z\n",
    "    z_next = np.zeros(2)\n",
    "    z_next[0] = gamma*(-r1 + np.tanh(m11*r1 + m12*r2 + u1))\n",
    "    z_next[1] = gamma*(-r2 + np.tanh(m21*r1 + m22*r2 + u2))\n",
    "    return z_next"
   ]
  },
  {
   "cell_type": "markdown",
   "id": "df3905a1",
   "metadata": {},
   "source": [
    "## Nullclines:\n",
    "\n",
    "$$\\dot{r}_{1}: r_{2} = \\frac{1}{m_{12}}\\left(\\frac{1}{2}\\ln\\left(\\frac{1+r_1}{1-r_1}\\right) - m_{11}r_{1} - u_{1} \\right)$$\n",
    "$$\\dot{r}_{2}: r_{1} = \\frac{1}{m_{21}}\\left(\\frac{1}{2}\\ln\\left(\\frac{1+r_2}{1-r_2}\\right) - m_{22}r_{2} - u_{2} \\right)$$"
   ]
  },
  {
   "cell_type": "code",
   "execution_count": 7,
   "id": "ec146fcc",
   "metadata": {},
   "outputs": [],
   "source": [
    "def r1_null(r1, m11, m12, u1):\n",
    "    return 1/m12*(1/2*np.log((1+r1)/(1-r1)) - m11*r1 -u1)\n",
    "\n",
    "def r2_null(r2, m21, m22, u2):\n",
    "    return 1/m21*(1/2*np.log((1+r2)/(1-r2)) - m22*r2 -u2)"
   ]
  },
  {
   "cell_type": "code",
   "execution_count": 8,
   "id": "5f23cfe2",
   "metadata": {},
   "outputs": [
    {
     "data": {
      "application/vnd.jupyter.widget-view+json": {
       "model_id": "64364fcd5922444db18a29ccc48a5b05",
       "version_major": 2,
       "version_minor": 0
      },
      "text/plain": [
       "interactive(children=(FloatSlider(value=0.1, description='gamma', max=5.0), FloatSlider(value=0.1, description…"
      ]
     },
     "metadata": {},
     "output_type": "display_data"
    }
   ],
   "source": [
    "@widgets.interact(gamma=(0, 5, 0.1), m11=(0, 5, 0.1), m12=(0, 5, 0.1), m21=(0, 5, 0.1), m22=(0, 5, 0.1), \n",
    "                 u1=(0, 5, 0.1), u2=(0, 5, 0.1), r10=(-1, 1, 0.1), r20=(-1, 1, 0.1))\n",
    "def update(gamma=0.1, m11=0.1, m12=0.1, m21=0.1, m22=0.1, u1=0.1, u2=0.1, r10=0, r20=0):\n",
    "    t_span = [0, 100]\n",
    "    z0 = [r10, r20]\n",
    "    params = (gamma, m11, m12, m21, m22, u1, u2)\n",
    "    sln = solve_ivp(f, t_span, z0, args=params, dense_output=True)\n",
    "    t = np.linspace(0, 100, 10000)\n",
    "    z = sln.sol(t)\n",
    "    \n",
    "    \n",
    "    fig, ax = plt.subplots(1, 1, figsize=(11,7))\n",
    "    r_range = np.linspace(-1, 1, 1000)\n",
    "    ax.plot(r_range, r1_null(r_range, m11, m12, u1))\n",
    "    ax.plot(r2_null(r_range, m21, m22, u2), r_range)\n",
    "    ax.plot(z[0], z[1])\n",
    "    ax.set_xlim(-2, 2)\n",
    "    ax.set_ylim(-2, 2)"
   ]
  },
  {
   "cell_type": "markdown",
   "id": "b50cd6a4",
   "metadata": {},
   "source": [
    "## Plot Vector Field and Nullclines:"
   ]
  },
  {
   "cell_type": "code",
   "execution_count": 9,
   "id": "e3994679",
   "metadata": {},
   "outputs": [],
   "source": [
    "def color_map(x):\n",
    "    colors = np.log10(x)\n",
    "    return np.nan_to_num(colors, neginf=0) \n",
    "    \n",
    "def phase_portrait(ax, f, t, xlim, ylim, num_pts, args, norm_arrows=True, stream=True, quiver=True):\n",
    "    \n",
    "    x = np.linspace(-xlim, xlim, num_pts)\n",
    "    y = np.linspace(-ylim, ylim, num_pts)\n",
    "    X, Y = np.meshgrid(x, y)\n",
    "    u = np.zeros((num_pts, num_pts))\n",
    "    v = np.zeros((num_pts, num_pts))\n",
    "    flow_mag = np.zeros((num_pts, num_pts))\n",
    "\n",
    "    for i in range(num_pts):\n",
    "        for j in range(num_pts):\n",
    "            u[i,j], v[i,j] = f(0, [X[i,j], Y[i,j]], *args)\n",
    "            flow_mag[i,j] = np.sqrt(u[i,j]**2 + v[i,j]**2)\n",
    "            if (u[i,j], v[i,j]) != (0,0):\n",
    "                u[i,j] *= 1/flow_mag[i,j]\n",
    "                v[i,j] *= 1/flow_mag[i,j]\n",
    "    \n",
    "    ax.quiver(X[::1, ::1], Y[::1, ::1], u[::1, ::1], v[::1, ::1], color_map(flow_mag[::1, ::1]), cmap=\"winter\", alpha=0.1)\n",
    "        \n",
    "    ax.streamplot(X, Y, u, v,  color=color_map(flow_mag), cmap=\"winter\", density=1)\n",
    "    ax.grid(True, which='both')  "
   ]
  },
  {
   "cell_type": "code",
   "execution_count": 16,
   "id": "42321336",
   "metadata": {},
   "outputs": [
    {
     "data": {
      "application/vnd.jupyter.widget-view+json": {
       "model_id": "b9be4702e2b44673a29efd17d2b181a8",
       "version_major": 2,
       "version_minor": 0
      },
      "text/plain": [
       "interactive(children=(FloatSlider(value=0.1, description='gamma', max=5.0), FloatSlider(value=0.1, description…"
      ]
     },
     "metadata": {},
     "output_type": "display_data"
    }
   ],
   "source": [
    "@widgets.interact(gamma=(0, 5, 0.1), m11=(-5, 5, 0.1), m12=(-5, 5, 0.1), m21=(-5, 5, 0.1), m22=(-5, 5, 0.1), \n",
    "                u1=(-5, 5, 0.1), u2=(-5, 5, 0.1), r10=(-1, 1, 0.1), r20=(-1, 1, 0.1))\n",
    "def update(gamma=0.1, m11=0.1, m12=0.1, m21=0.1, m22=0.1, u1=0.1, u2=0.1, r10=0, r20=0):\n",
    "    t_span = [0, 500]\n",
    "    z0 = [r10, r20]\n",
    "    params = (gamma, m11, m12, m21, m22, u1, u2)\n",
    "    sln = solve_ivp(f, t_span, z0, args=params, dense_output=True)\n",
    "    t = np.linspace(0, 500, 10000)\n",
    "    z = sln.sol(t)\n",
    "    \n",
    "    \n",
    "    fig, ax = plt.subplots(1, 1, figsize=(11,7))\n",
    "    r_range = np.linspace(-1, 1, 10000)\n",
    "    phase_portrait(ax, f, t, 2, 2, 15, params)\n",
    "    ax.plot(r_range, r1_null(r_range, m11, m12, u1), 'y', linewidth=2, label='$\\dot{r}_{1}=0$')\n",
    "    ax.plot(r2_null(r_range, m21, m22, u2), r_range, 'r', linewidth=2, label='$\\dot{r}_{2}=0$')\n",
    "    ax.plot(z[0], z[1], 'k', linewidth=2)\n",
    "    ax.set_xlim(-2, 2)\n",
    "    ax.set_ylim(-2, 2)\n",
    "    ax.legend()"
   ]
  },
  {
   "cell_type": "markdown",
   "id": "aaa5331c",
   "metadata": {},
   "source": [
    "## Find Fixed Points:"
   ]
  },
  {
   "cell_type": "code",
   "execution_count": 12,
   "id": "8d419f2d",
   "metadata": {},
   "outputs": [],
   "source": [
    "from scipy.optimize import fsolve"
   ]
  },
  {
   "cell_type": "code",
   "execution_count": 13,
   "id": "50bc5339",
   "metadata": {},
   "outputs": [],
   "source": [
    "def nullclines_s(r, gamma, m11, m12, m21, m22, u1, u2):\n",
    "    r1, r2 = r\n",
    "    return (r1_null(r1, m11, m12, u1) - r1, r2_null(r2, m21, m22, u2) - r2)\n",
    "\n",
    "def nullclines_o(r, gamma, m11, m12, m21, m22, u1, u2):\n",
    "    r1, r2 = r\n",
    "    r_next = np.zeros(2)\n",
    "    r_next[0] = -r1 + np.tanh(m11*r1 + m12*r2 + u1)\n",
    "    r_next[1] = -r2 + np.tanh(m21*r1 + m22*r2 + u2)\n",
    "    return r_next\n",
    "    "
   ]
  },
  {
   "cell_type": "code",
   "execution_count": 14,
   "id": "e3480b58",
   "metadata": {},
   "outputs": [],
   "source": [
    "def find_roots(f, d, xrange, yrange, n, args, tol=1e-8):\n",
    "    x1, x2 = xrange\n",
    "    y1, y2 = yrange\n",
    "    x = np.linspace(x1, x2, n)\n",
    "    y = np.linspace(y1, y2, n)\n",
    "    xv, yv = np.meshgrid(x, y)\n",
    "    \n",
    "    roots = []\n",
    "    \n",
    "    for i in range(n):\n",
    "        for j in range(n):\n",
    "            root = fsolve(f, [xv[i][j], yv[i][j]], args, maxfev=9000)\n",
    "            if np.linalg.norm(f(root, *args)) < tol:\n",
    "                roots.append(root)\n",
    "    #roots = np.unique(roots, axis=0)\n",
    "    return roots"
   ]
  },
  {
   "cell_type": "code",
   "execution_count": 64,
   "id": "8518492e",
   "metadata": {
    "scrolled": false
   },
   "outputs": [
    {
     "data": {
      "application/vnd.jupyter.widget-view+json": {
       "model_id": "f0d3d4e78264407aacc93acaecde5f4e",
       "version_major": 2,
       "version_minor": 0
      },
      "text/plain": [
       "interactive(children=(FloatSlider(value=0.1, description='gamma', max=5.0), FloatSlider(value=0.1, description…"
      ]
     },
     "metadata": {},
     "output_type": "display_data"
    }
   ],
   "source": [
    "@widgets.interact(gamma=(0, 5, 0.1), m11=(0, 5, 0.1), m12=(0, 5, 0.1), m21=(0, 5, 0.1), m22=(0, 5, 0.1), \n",
    "                 u1=(0, 5, 0.1), u2=(0, 5, 0.1), r10=(-1, 1, 0.1), r20=(-1, 1, 0.1))\n",
    "def update(gamma=0.1, m11=0.1, m12=0.1, m21=0.1, m22=0.1, u1=0.1, u2=0.1, r10=0, r20=0):\n",
    "    t_span = [0, 100]\n",
    "    z0 = [r10, r20]\n",
    "    params = (gamma, m11, m12, m21, m22, u1, u2)\n",
    "    sln = solve_ivp(f, t_span, z0, args=params, dense_output=True)\n",
    "    t = np.linspace(0, 100, 10000)\n",
    "    z = sln.sol(t)\n",
    "    fixed_points = find_roots(nullclines_o, 2, [-1, 1], [-1, 1], 20, params)\n",
    "    \n",
    "    fig, ax = plt.subplots(1, 1, figsize=(11,7))\n",
    "    r_range = np.linspace(-1, 1, 1000)\n",
    "    ax.plot(r_range, r1_null(r_range, m11, m12, u1))\n",
    "    ax.plot(r2_null(r_range, m21, m22, u2), r_range)\n",
    "    ax.plot(z[0], z[1])\n",
    "    for x in fixed_points:\n",
    "        ax.plot(x[0], x[1], 'ko')\n",
    "    ax.set_xlim(-2, 2)\n",
    "    ax.set_ylim(-2, 2)"
   ]
  },
  {
   "cell_type": "markdown",
   "id": "6b54eea9",
   "metadata": {},
   "source": [
    "## Phase Portrait with Nullclines and Fixed Points:"
   ]
  },
  {
   "cell_type": "code",
   "execution_count": 15,
   "id": "96419c19",
   "metadata": {
    "scrolled": false
   },
   "outputs": [
    {
     "data": {
      "application/vnd.jupyter.widget-view+json": {
       "model_id": "00fc35ceb7654ccfa5e94289e1798182",
       "version_major": 2,
       "version_minor": 0
      },
      "text/plain": [
       "interactive(children=(FloatSlider(value=0.1, description='gamma', max=5.0), FloatSlider(value=0.1, description…"
      ]
     },
     "metadata": {},
     "output_type": "display_data"
    }
   ],
   "source": [
    "@widgets.interact(gamma=(0, 5, 0.1), m11=(-5, 5, 0.1), m12=(-5, 5, 0.1), m21=(-5, 5, 0.1), m22=(-5, 5, 0.1), \n",
    "                u1=(-5, 5, 0.1), u2=(-5, 5, 0.1), r10=(-1, 1, 0.1), r20=(-1, 1, 0.1))\n",
    "def update(gamma=0.1, m11=0.1, m12=0.1, m21=0.1, m22=0.1, u1=0.1, u2=0.1, r10=0, r20=0):\n",
    "    t_span = [0, 500]\n",
    "    z0 = [r10, r20]\n",
    "    params = (gamma, m11, m12, m21, m22, u1, u2)\n",
    "    sln = solve_ivp(f, t_span, z0, args=params, dense_output=True)\n",
    "    t = np.linspace(0, 500, 10000)\n",
    "    z = sln.sol(t)\n",
    "    fixed_points = find_roots(nullclines_o, 2, [-1, 1], [-1, 1], 20, params)\n",
    "    \n",
    "    \n",
    "    fig, ax = plt.subplots(1, 1, figsize=(11,7))\n",
    "    r_range = np.linspace(-1, 1, 10000)\n",
    "    phase_portrait(ax, f, t, 2, 2, 15, params)\n",
    "    ax.plot(r_range, r1_null(r_range, m11, m12, u1), 'y', linewidth=2, label='$\\dot{r}_{1}=0$')\n",
    "    ax.plot(r2_null(r_range, m21, m22, u2), r_range, 'r', linewidth=2, label='$\\dot{r}_{2}=0$')\n",
    "    ax.plot(z[0], z[1], 'k', linewidth=2)\n",
    "    for x in fixed_points:\n",
    "        ax.plot(x[0], x[1], 'ko')\n",
    "    ax.set_xlim(-2, 2)\n",
    "    ax.set_ylim(-2, 2)\n",
    "    ax.legend(loc='upper left')"
   ]
  },
  {
   "cell_type": "markdown",
   "id": "4f575287",
   "metadata": {},
   "source": [
    "## Eigenvalues of Jacobian at Fixed Points:"
   ]
  },
  {
   "cell_type": "markdown",
   "id": "0c10bdda",
   "metadata": {},
   "source": [
    "$$\\dot{r}_{1} = \\gamma[ -r_{1} + tanh(m_{11}r_{1} + m_{12}r_{2} + u_{1})] = f_{1}(r_{1}, r_{2})$$\n",
    "$$\\dot{r}_{2} = \\gamma[ -r_{2} + tanh(m_{21}r_{1} + m_{22}r_{2} + u_{2})] = f_{2}(r_{1}, r_{2})$$\n",
    "$$\\space$$\n",
    "$$DF(r_{1}, r_{2}) = \\begin{pmatrix}\n",
    "\\frac{\\partial f_{1}}{\\partial r_{1}} & \\frac{\\partial f_{1}}{\\partial r_{2}}\\\\\n",
    "\\frac{\\partial f_{2}}{\\partial r_{1}} & \\frac{\\partial f_{2}}{\\partial r_{2}}\n",
    "\\end{pmatrix} = \\begin{pmatrix}\n",
    "\\gamma\\left[-1 + m_{11}sech^{2}(m_{11}r_{1} + m_{12}r_{2} + u_{1}) \\right] & \n",
    "\\gamma m_{12}sech^{2}(m_{11}r_{1} + m_{12}r_{2} + u_{1})\\\\\n",
    "\\gamma m_{21}sech^{2}(m_{21}r_{1} + m_{22}r_{2} + u_{2}) & \n",
    "\\gamma\\left[-1 + m_{22}sech^{2}(m_{21}r_{1} + m_{22}r_{2} + u_{2}) \\right]\n",
    "\\end{pmatrix}$$"
   ]
  },
  {
   "cell_type": "code",
   "execution_count": 60,
   "id": "09d7a8a5",
   "metadata": {},
   "outputs": [],
   "source": [
    "def jac(r, gamma, m11, m12, m21, m22, u1, u2):\n",
    "    r1, r2 = r\n",
    "    j11 = gamma*(-1 + m11*1/np.cosh(m11*r1 + m12*r2 + u1)**2)\n",
    "    j12 = gamma*m12*1/np.cosh(m11*r1 + m12*r2 + u1)**2\n",
    "    j21 = gamma*m21*1/np.cosh(m21*r1 + m22*r2 + u2)**2\n",
    "    j22 = gamma*(-1 + m22*1/np.cosh(m21*r1 + m22*r2 + u2)**2)\n",
    "    return np.asarray([[j11, j12], [j21, j22]])"
   ]
  },
  {
   "cell_type": "code",
   "execution_count": 61,
   "id": "8e265bbf",
   "metadata": {},
   "outputs": [
    {
     "data": {
      "text/plain": [
       "(array([0.1381966, 0.3618034]),\n",
       " array([[-0.85065081, -0.52573111],\n",
       "        [ 0.52573111, -0.85065081]]))"
      ]
     },
     "execution_count": 61,
     "metadata": {},
     "output_type": "execute_result"
    }
   ],
   "source": [
    "gamma = 0.5\n",
    "m11 = 1.4\n",
    "m12 = 0.2\n",
    "m21 = 0.2\n",
    "m22 = 1.6\n",
    "u1 = 0\n",
    "u2 = 0\n",
    "\n",
    "np.linalg.eig(jac([0, 0], gamma, m11, m12, m21, m22, u1, u2)) "
   ]
  },
  {
   "cell_type": "code",
   "execution_count": null,
   "id": "63509db5",
   "metadata": {},
   "outputs": [],
   "source": []
  }
 ],
 "metadata": {
  "kernelspec": {
   "display_name": "Python 3 (ipykernel)",
   "language": "python",
   "name": "python3"
  },
  "language_info": {
   "codemirror_mode": {
    "name": "ipython",
    "version": 3
   },
   "file_extension": ".py",
   "mimetype": "text/x-python",
   "name": "python",
   "nbconvert_exporter": "python",
   "pygments_lexer": "ipython3",
   "version": "3.9.12"
  }
 },
 "nbformat": 4,
 "nbformat_minor": 5
}
