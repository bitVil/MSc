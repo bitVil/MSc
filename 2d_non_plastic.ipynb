{
 "cells": [
  {
   "cell_type": "code",
   "execution_count": 4,
   "id": "8875a5c5",
   "metadata": {},
   "outputs": [
    {
     "name": "stderr",
     "output_type": "stream",
     "text": [
      "C:\\ProgramData\\Anaconda3\\lib\\site-packages\\scipy\\__init__.py:146: UserWarning: A NumPy version >=1.16.5 and <1.23.0 is required for this version of SciPy (detected version 1.23.3\n",
      "  warnings.warn(f\"A NumPy version >={np_minversion} and <{np_maxversion}\"\n"
     ]
    }
   ],
   "source": [
    "import numpy as np\n",
    "import scipy.sparse as sp\n",
    "import matplotlib.pyplot as plt\n",
    "from scipy.integrate import solve_ivp\n",
    "import ipywidgets as widgets"
   ]
  },
  {
   "cell_type": "markdown",
   "id": "43fb4e6f",
   "metadata": {},
   "source": [
    "## Neural Network Dynamics:\n",
    "\n",
    "$$\\dot{r}_{1} = \\gamma[ -r_{1} + tanh(\\rho m_{12}r_{2} + \\sigma w_{1}u)]$$\n",
    "$$\\dot{r}_{2} = \\gamma[ -r_{2} + tanh(\\rho m_{21}r_{1} + \\sigma w_{2}u)]$$"
   ]
  },
  {
   "cell_type": "code",
   "execution_count": 5,
   "id": "41c05de3",
   "metadata": {},
   "outputs": [],
   "source": [
    "def f(t, z, gamma, rho, sigma, m12, m21, u, w1, w2):\n",
    "    r1, r2 = z\n",
    "    z_next = np.zeros(2)\n",
    "    z_next[0] = gamma*(-r1 + np.tanh(rho*m12*r2 + sigma*w1*(u)))\n",
    "    z_next[1] = gamma*(-r2 + np.tanh(rho*m21*r1 + sigma*w2*(u)))\n",
    "    return z_next"
   ]
  },
  {
   "cell_type": "markdown",
   "id": "0f81b87f",
   "metadata": {},
   "source": [
    "## Nullclines:\n",
    "\n",
    "$$ r_{1} = tanh(\\rho m_{12}r_{2} + \\sigma w_{1}u)$$\n",
    "$$ r_{2} = tanh(\\rho m_{21}r_{1} + \\sigma w_{2}u)$$\n"
   ]
  },
  {
   "cell_type": "code",
   "execution_count": 6,
   "id": "186e83ce",
   "metadata": {},
   "outputs": [],
   "source": [
    "def r1_null(r2, rho, sigma, m12, u, w1):\n",
    "    return np.tanh(rho*m12*r2 + sigma*w1*(u))\n",
    "\n",
    "def r2_null(r1, rho, sigma, m21, u, w2):\n",
    "    return np.tanh(rho*m21*r1 + sigma*w2*(u))"
   ]
  },
  {
   "cell_type": "code",
   "execution_count": 7,
   "id": "e2a98619",
   "metadata": {},
   "outputs": [],
   "source": [
    "# System parameters.\n",
    "gamma = 10\n",
    "rho = 0.9\n",
    "sigma = 0.01\n",
    "m12 = 0.1\n",
    "m21 = 0.1\n",
    "u = 100\n",
    "w1 = 0.1\n",
    "w2 = 0 \n",
    "\n",
    "# Solve ODE. \n",
    "r10 = r20 = 0\n",
    "t_span = [0, 10]\n",
    "z0 = [r10, r20]\n",
    "params = (gamma, rho, sigma, m12, m21, u, w1, w2)\n",
    "sln = solve_ivp(f, t_span, z0, args=params, dense_output=True)\n",
    "t = np.linspace(0, 10, 10000)\n",
    "z = sln.sol(t)"
   ]
  },
  {
   "cell_type": "code",
   "execution_count": 8,
   "id": "a8da6267",
   "metadata": {},
   "outputs": [
    {
     "data": {
      "text/plain": [
       "<matplotlib.legend.Legend at 0x1ac291e7700>"
      ]
     },
     "execution_count": 8,
     "metadata": {},
     "output_type": "execute_result"
    },
    {
     "data": {
      "image/png": "[encoded data removed]",
      "text/plain": [
       "<Figure size 792x504 with 2 Axes>"
      ]
     },
     "metadata": {
      "needs_background": "light"
     },
     "output_type": "display_data"
    }
   ],
   "source": [
    "fig, (ax1, ax2) = plt.subplots(1, 2, figsize=(11,7))\n",
    "ax1.plot(t , z[0], \"b-\", label='r1')\n",
    "ax2.plot(t , z[1], \"b-\", label='r2')\n",
    "    \n",
    "ax1.set_xlabel(\"t\")\n",
    "ax2.set_xlabel(\"t\")\n",
    "\n",
    "ax1.legend()\n",
    "ax2.legend()"
   ]
  },
  {
   "cell_type": "code",
   "execution_count": 18,
   "id": "1819d068",
   "metadata": {},
   "outputs": [
    {
     "data": {
      "application/vnd.jupyter.widget-view+json": {
       "model_id": "4636c922e8954e7799c581b38aef20b9",
       "version_major": 2,
       "version_minor": 0
      },
      "text/plain": [
       "interactive(children=(IntSlider(value=0, description='t_end', max=10000, step=10), Output()), _dom_classes=('w…"
      ]
     },
     "metadata": {},
     "output_type": "display_data"
    }
   ],
   "source": [
    "@widgets.interact(t_end=(0, 10000, 10))\n",
    "def update(t_end=0):\n",
    "    fig, ax1 = plt.subplots(1, 1, figsize=(11,7))\n",
    "    r_range = np.linspace(-10, 10, 1000)\n",
    "    ax1.plot(r1_null(r_range, rho, sigma, m12, u, w1), r_range)\n",
    "    ax1.plot(r_range, r2_null(r_range, rho, sigma, m21, u, w2))\n",
    "    ax1.plot(z[0][:t_end], z[1][:t_end])  \n",
    "    ax1.set_xlim(0, 1)\n",
    "    ax1.set_ylim(0, 1)"
   ]
  },
  {
   "cell_type": "code",
   "execution_count": 14,
   "id": "96cfbbbe",
   "metadata": {},
   "outputs": [],
   "source": [
    "def f_null_1(r2, a, b):\n",
    "    return np.tanh(a*r2 + b)\n",
    "\n",
    "def f_null_2(r1, a, b):\n",
    "    return np.tanh(a*r1 + b)"
   ]
  },
  {
   "cell_type": "code",
   "execution_count": 15,
   "id": "9d0ccc1a",
   "metadata": {},
   "outputs": [
    {
     "data": {
      "application/vnd.jupyter.widget-view+json": {
       "model_id": "f99bedf02ae7451e82536a69dcb0cd34",
       "version_major": 2,
       "version_minor": 0
      },
      "text/plain": [
       "interactive(children=(FloatSlider(value=0.1, description='a', max=5.0), FloatSlider(value=0.1, description='b'…"
      ]
     },
     "metadata": {},
     "output_type": "display_data"
    }
   ],
   "source": [
    "@widgets.interact(a=(0, 5, 0.1), b=(0, 5, 0.1), c=(0, 5, 0.1), d=(0, 5, 0.1))\n",
    "def update(a=0.1, b=0.1, c=0.1, d=0.1):\n",
    "    fig, ax = plt.subplots(1, 1, figsize=(11,7))\n",
    "    r_range = np.linspace(-10, 10, 1000)\n",
    "    ax.plot(r_range, f_null_1(r_range, a, b))\n",
    "    ax.plot(f_null_1(r_range, c, d), r_range)\n",
    "    ax.set_xlim(-5, 5)\n",
    "    ax.set_ylim(-5, 5)"
   ]
  },
  {
   "cell_type": "code",
   "execution_count": null,
   "id": "48fc833d",
   "metadata": {},
   "outputs": [],
   "source": []
  }
 ],
 "metadata": {
  "kernelspec": {
   "display_name": "Python 3 (ipykernel)",
   "language": "python",
   "name": "python3"
  },
  "language_info": {
   "codemirror_mode": {
    "name": "ipython",
    "version": 3
   },
   "file_extension": ".py",
   "mimetype": "text/x-python",
   "name": "python",
   "nbconvert_exporter": "python",
   "pygments_lexer": "ipython3",
   "version": "3.9.12"
  }
 },
 "nbformat": 4,
 "nbformat_minor": 5
}
